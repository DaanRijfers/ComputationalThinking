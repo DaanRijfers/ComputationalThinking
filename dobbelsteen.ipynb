{
 "cells": [
  {
   "cell_type": "code",
   "execution_count": null,
   "id": "15c3dc0f-e662-4c03-835c-eb6408bcf076",
   "metadata": {},
   "outputs": [],
   "source": [
    "import matplotlib.pyplot as plt\n",
    "\n",
    "def lcg(modulus: int, a: int, c: int, seed: int):\n",
    "    while True:\n",
    "        seed = (a * seed + c) % modulus\n",
    "        yield seed\n",
    "\n",
    "def prn(generated_numbers, modulus):\n",
    "    return [number / modulus for number in generated_numbers]\n",
    "\n",
    "def simulate_dice_roll(pseudo_random_numbers):\n",
    "    dice_numbers = []\n",
    "    for pseudo_random_number in pseudo_random_numbers:\n",
    "        dice_numbers.append(int(pseudo_random_number * 6) + 1)\n",
    "    return dice_numbers\n",
    "\n",
    "modulus = 2**32\n",
    "a = 1103515245\n",
    "c = 12345\n",
    "seed = 42\n",
    "num_rolls = 100\n",
    "\n",
    "generator = lcg(modulus, a, c, seed)\n",
    "\n",
    "generated_numbers = []\n",
    "\n",
    "for _ in range(num_rolls):\n",
    "    generated_number = next(generator)\n",
    "    generated_numbers.append(generated_number)\n",
    "\n",
    "pseudo_random_numbers = prn(generated_numbers, modulus)\n",
    "\n",
    "dice_results = simulate_dice_roll(pseudo_random_numbers)\n",
    "\n",
    "def calculate_frequency(results):\n",
    "    frequency = [0] * 6\n",
    "    for result in results:\n",
    "        frequency[result - 1] += 1\n",
    "    return frequency\n",
    "\n",
    "frequency = calculate_frequency(dice_results)\n",
    "\n",
    "# Bereken het gemiddelde\n",
    "average = sum(dice_results) / len(dice_results)\n",
    "\n",
    "labels = ['1', '2', '3', '4', '5', '6']\n",
    "\n",
    "plt.figure(figsize=(8, 6))\n",
    "plt.bar(labels, frequency, color='skyblue')\n",
    "plt.text(0.5, max(frequency) * 0.9, f'Gemiddelde: {average:.2f}', ha='center', fontsize=12, color='red')\n",
    "plt.title('Frequentie van Dobbelsteenresultaten (100 worpen)')\n",
    "plt.xlabel('Dobbelsteenresultaat')\n",
    "plt.ylabel('Frequentie')\n",
    "plt.show()\n"
   ]
  }
 ],
 "metadata": {
  "kernelspec": {
   "display_name": "Python 3 (ipykernel)",
   "language": "python",
   "name": "python3"
  },
  "language_info": {
   "codemirror_mode": {
    "name": "ipython",
    "version": 3
   },
   "file_extension": ".py",
   "mimetype": "text/x-python",
   "name": "python",
   "nbconvert_exporter": "python",
   "pygments_lexer": "ipython3",
   "version": "3.12.3"
  }
 },
 "nbformat": 4,
 "nbformat_minor": 5
}
